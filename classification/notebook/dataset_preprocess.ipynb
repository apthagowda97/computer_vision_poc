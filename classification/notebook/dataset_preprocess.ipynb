{
  "nbformat": 4,
  "nbformat_minor": 0,
  "metadata": {
    "colab": {
      "name": "dataset_preprocess.ipynb",
      "provenance": [],
      "collapsed_sections": [],
      "authorship_tag": "ABX9TyN90KgS8MVeGUjG37xUxq2T",
      "include_colab_link": true
    },
    "kernelspec": {
      "name": "python3",
      "display_name": "Python 3"
    }
  },
  "cells": [
    {
      "cell_type": "markdown",
      "metadata": {
        "id": "view-in-github",
        "colab_type": "text"
      },
      "source": [
        "<a href=\"https://colab.research.google.com/github/apthagowda97/computer_vision_poc/blob/master/classification%5Cnotebook%5Cdataset_preprocess.ipynb\" target=\"_parent\"><img src=\"https://colab.research.google.com/assets/colab-badge.svg\" alt=\"Open In Colab\"/></a>"
      ]
    },
    {
      "cell_type": "code",
      "metadata": {
        "id": "nABNWhjTDPNa",
        "outputId": "3bc31787-8a51-45e5-f4d6-660459728109",
        "colab": {
          "base_uri": "https://localhost:8080/",
          "height": 202
        }
      },
      "source": [
        "%%shell\n",
        "\n",
        "wget https://storage.googleapis.com/download.tensorflow.org/example_images/flower_photos.tgz\n",
        "tar -xzf flower_photos.tgz"
      ],
      "execution_count": null,
      "outputs": [
        {
          "output_type": "stream",
          "text": [
            "--2020-09-28 07:11:11--  https://storage.googleapis.com/download.tensorflow.org/example_images/flower_photos.tgz\n",
            "Resolving storage.googleapis.com (storage.googleapis.com)... 64.233.189.128, 108.177.97.128, 108.177.125.128, ...\n",
            "Connecting to storage.googleapis.com (storage.googleapis.com)|64.233.189.128|:443... connected.\n",
            "HTTP request sent, awaiting response... 200 OK\n",
            "Length: 228813984 (218M) [application/x-compressed-tar]\n",
            "Saving to: ‘flower_photos.tgz’\n",
            "\n",
            "flower_photos.tgz   100%[===================>] 218.21M   123MB/s    in 1.8s    \n",
            "\n",
            "2020-09-28 07:11:13 (123 MB/s) - ‘flower_photos.tgz’ saved [228813984/228813984]\n",
            "\n"
          ],
          "name": "stdout"
        },
        {
          "output_type": "execute_result",
          "data": {
            "text/plain": [
              ""
            ]
          },
          "metadata": {
            "tags": []
          },
          "execution_count": 1
        }
      ]
    },
    {
      "cell_type": "code",
      "metadata": {
        "id": "Nx4WsjnnDUWC"
      },
      "source": [
        "import os\n",
        "import tarfile\n",
        "import numpy as np\n",
        "import pandas as pd\n",
        "from google.colab import files\n",
        "\n",
        "from sklearn.model_selection import train_test_split\n",
        "from sklearn.preprocessing import LabelEncoder"
      ],
      "execution_count": null,
      "outputs": []
    },
    {
      "cell_type": "code",
      "metadata": {
        "id": "ImFQ5r-gFQH_"
      },
      "source": [
        "SEED = 42"
      ],
      "execution_count": null,
      "outputs": []
    },
    {
      "cell_type": "code",
      "metadata": {
        "id": "okYzo8jyDYgl"
      },
      "source": [
        "def seed_everything(SEED):\n",
        "    np.random.seed(SEED);\n",
        "\n",
        "seed_everything(SEED) "
      ],
      "execution_count": null,
      "outputs": []
    },
    {
      "cell_type": "code",
      "metadata": {
        "id": "laAf-NlMDiex"
      },
      "source": [
        "image_name = [];flower_name = []\n",
        "for dir_name in os.listdir('flower_photos'):\n",
        "  if os.path.isdir(os.path.join('flower_photos',dir_name)):\n",
        "    names = os.listdir(os.path.join('flower_photos',dir_name))\n",
        "    image_name.extend(names);flower_name.extend([dir_name]*len(names))"
      ],
      "execution_count": null,
      "outputs": []
    },
    {
      "cell_type": "code",
      "metadata": {
        "id": "MxiBV8_dDsKs",
        "outputId": "587b2134-2396-4931-d77f-7aafe456e4fa",
        "colab": {
          "base_uri": "https://localhost:8080/",
          "height": 34
        }
      },
      "source": [
        "le = LabelEncoder()\n",
        "flower_df = pd.DataFrame(data={'flower_name':flower_name,'image_name':image_name})\n",
        "flower_df['image_path'] = flower_df['flower_name']+'/'+flower_df['image_name']\n",
        "flower_df['target'] = le.fit_transform(flower_df['flower_name'])\n",
        "classes = le.classes_\n",
        "print(\"Target : {}\".format(classes))"
      ],
      "execution_count": null,
      "outputs": [
        {
          "output_type": "stream",
          "text": [
            "Target : ['daisy' 'dandelion' 'roses' 'sunflowers' 'tulips']\n"
          ],
          "name": "stdout"
        }
      ]
    },
    {
      "cell_type": "code",
      "metadata": {
        "id": "t8VzxlvPDuzn",
        "outputId": "796246b5-a673-4e0f-dbd0-5398723d5fa0",
        "colab": {
          "base_uri": "https://localhost:8080/",
          "height": 195
        }
      },
      "source": [
        "flower_df = flower_df.sample(frac=1,random_state=42).reset_index(drop=True)\n",
        "flower_df.head()"
      ],
      "execution_count": null,
      "outputs": [
        {
          "output_type": "execute_result",
          "data": {
            "text/html": [
              "<div>\n",
              "<style scoped>\n",
              "    .dataframe tbody tr th:only-of-type {\n",
              "        vertical-align: middle;\n",
              "    }\n",
              "\n",
              "    .dataframe tbody tr th {\n",
              "        vertical-align: top;\n",
              "    }\n",
              "\n",
              "    .dataframe thead th {\n",
              "        text-align: right;\n",
              "    }\n",
              "</style>\n",
              "<table border=\"1\" class=\"dataframe\">\n",
              "  <thead>\n",
              "    <tr style=\"text-align: right;\">\n",
              "      <th></th>\n",
              "      <th>flower_name</th>\n",
              "      <th>image_name</th>\n",
              "      <th>image_path</th>\n",
              "      <th>target</th>\n",
              "    </tr>\n",
              "  </thead>\n",
              "  <tbody>\n",
              "    <tr>\n",
              "      <th>0</th>\n",
              "      <td>roses</td>\n",
              "      <td>5961803532_9368212949_m.jpg</td>\n",
              "      <td>roses/5961803532_9368212949_m.jpg</td>\n",
              "      <td>2</td>\n",
              "    </tr>\n",
              "    <tr>\n",
              "      <th>1</th>\n",
              "      <td>sunflowers</td>\n",
              "      <td>151898652_b5f1c70b98_n.jpg</td>\n",
              "      <td>sunflowers/151898652_b5f1c70b98_n.jpg</td>\n",
              "      <td>3</td>\n",
              "    </tr>\n",
              "    <tr>\n",
              "      <th>2</th>\n",
              "      <td>daisy</td>\n",
              "      <td>5769217520_c90efc3c93_m.jpg</td>\n",
              "      <td>daisy/5769217520_c90efc3c93_m.jpg</td>\n",
              "      <td>0</td>\n",
              "    </tr>\n",
              "    <tr>\n",
              "      <th>3</th>\n",
              "      <td>dandelion</td>\n",
              "      <td>4572738670_4787a11058_n.jpg</td>\n",
              "      <td>dandelion/4572738670_4787a11058_n.jpg</td>\n",
              "      <td>1</td>\n",
              "    </tr>\n",
              "    <tr>\n",
              "      <th>4</th>\n",
              "      <td>dandelion</td>\n",
              "      <td>6968202872_cfcb5b77fb.jpg</td>\n",
              "      <td>dandelion/6968202872_cfcb5b77fb.jpg</td>\n",
              "      <td>1</td>\n",
              "    </tr>\n",
              "  </tbody>\n",
              "</table>\n",
              "</div>"
            ],
            "text/plain": [
              "  flower_name  ... target\n",
              "0       roses  ...      2\n",
              "1  sunflowers  ...      3\n",
              "2       daisy  ...      0\n",
              "3   dandelion  ...      1\n",
              "4   dandelion  ...      1\n",
              "\n",
              "[5 rows x 4 columns]"
            ]
          },
          "metadata": {
            "tags": []
          },
          "execution_count": 19
        }
      ]
    },
    {
      "cell_type": "code",
      "metadata": {
        "id": "wdjIXrwJDzWS",
        "outputId": "aea2333a-18ab-4dc8-cf91-e12ace06c264",
        "colab": {
          "base_uri": "https://localhost:8080/",
          "height": 34
        }
      },
      "source": [
        "train_and_valid,test = train_test_split(flower_df,test_size=0.1,random_state=SEED)\n",
        "train,valid = train_test_split(train_and_valid,test_size=0.2,random_state=SEED)\n",
        "print(\"The size of train: {0}, valid: {1} and test: {2}\".format(len(train),len(valid),len(test)))"
      ],
      "execution_count": null,
      "outputs": [
        {
          "output_type": "stream",
          "text": [
            "The size of train: 2642, valid: 661 and test: 367\n"
          ],
          "name": "stdout"
        }
      ]
    },
    {
      "cell_type": "code",
      "metadata": {
        "id": "sX-OV4CWFgmf"
      },
      "source": [
        "train.to_csv('train_flowers.csv',index=False)\n",
        "valid.to_csv('valid_flowers.csv',index=False)\n",
        "test.to_csv('test_flowers.csv',index=False)"
      ],
      "execution_count": null,
      "outputs": []
    },
    {
      "cell_type": "code",
      "metadata": {
        "id": "PVT8nZGyNIKj"
      },
      "source": [
        "def make_tar(tar_file_name,file_names=[]):\n",
        "  fp = tarfile.open(tar_file_name,\"w:gz\")\n",
        "  for file_name in file_names:\n",
        "    fp.add(file_name)\n",
        "  fp.close()"
      ],
      "execution_count": null,
      "outputs": []
    },
    {
      "cell_type": "code",
      "metadata": {
        "id": "lb-EkUl0YmoO"
      },
      "source": [
        "make_tar('flower_data.tar.gz', ['train_flowers.csv','valid_flowers.csv','test_flowers.csv'])"
      ],
      "execution_count": null,
      "outputs": []
    },
    {
      "cell_type": "code",
      "metadata": {
        "id": "qGlJrI8Wb8yM",
        "outputId": "62c10d7d-98ed-42e1-d635-2aaafeb0d53e",
        "colab": {
          "base_uri": "https://localhost:8080/",
          "height": 17
        }
      },
      "source": [
        "files.download('flower_data.tar.gz')"
      ],
      "execution_count": null,
      "outputs": [
        {
          "output_type": "display_data",
          "data": {
            "application/javascript": [
              "\n",
              "    async function download(id, filename, size) {\n",
              "      if (!google.colab.kernel.accessAllowed) {\n",
              "        return;\n",
              "      }\n",
              "      const div = document.createElement('div');\n",
              "      const label = document.createElement('label');\n",
              "      label.textContent = `Downloading \"${filename}\": `;\n",
              "      div.appendChild(label);\n",
              "      const progress = document.createElement('progress');\n",
              "      progress.max = size;\n",
              "      div.appendChild(progress);\n",
              "      document.body.appendChild(div);\n",
              "\n",
              "      const buffers = [];\n",
              "      let downloaded = 0;\n",
              "\n",
              "      const channel = await google.colab.kernel.comms.open(id);\n",
              "      // Send a message to notify the kernel that we're ready.\n",
              "      channel.send({})\n",
              "\n",
              "      for await (const message of channel.messages) {\n",
              "        // Send a message to notify the kernel that we're ready.\n",
              "        channel.send({})\n",
              "        if (message.buffers) {\n",
              "          for (const buffer of message.buffers) {\n",
              "            buffers.push(buffer);\n",
              "            downloaded += buffer.byteLength;\n",
              "            progress.value = downloaded;\n",
              "          }\n",
              "        }\n",
              "      }\n",
              "      const blob = new Blob(buffers, {type: 'application/binary'});\n",
              "      const a = document.createElement('a');\n",
              "      a.href = window.URL.createObjectURL(blob);\n",
              "      a.download = filename;\n",
              "      div.appendChild(a);\n",
              "      a.click();\n",
              "      div.remove();\n",
              "    }\n",
              "  "
            ],
            "text/plain": [
              "<IPython.core.display.Javascript object>"
            ]
          },
          "metadata": {
            "tags": []
          }
        },
        {
          "output_type": "display_data",
          "data": {
            "application/javascript": [
              "download(\"download_1d51c868-8c02-4cc9-91ee-e84ea0babb93\", \"flower_data.tar.gz\", 70864)"
            ],
            "text/plain": [
              "<IPython.core.display.Javascript object>"
            ]
          },
          "metadata": {
            "tags": []
          }
        }
      ]
    },
    {
      "cell_type": "code",
      "metadata": {
        "id": "HqEta6jZkn-n"
      },
      "source": [
        ""
      ],
      "execution_count": null,
      "outputs": []
    }
  ]
}