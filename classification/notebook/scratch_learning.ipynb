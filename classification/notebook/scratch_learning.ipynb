{
  "nbformat": 4,
  "nbformat_minor": 0,
  "metadata": {
    "kernelspec": {
      "display_name": "Python 3",
      "language": "python",
      "name": "python3"
    },
    "language_info": {
      "codemirror_mode": {
        "name": "ipython",
        "version": 3
      },
      "file_extension": ".py",
      "mimetype": "text/x-python",
      "name": "python",
      "nbconvert_exporter": "python",
      "pygments_lexer": "ipython3",
      "version": "3.6.10"
    },
    "colab": {
      "name": "scratch_learning.ipynb",
      "provenance": [],
      "collapsed_sections": [],
      "include_colab_link": true
    }
  },
  "cells": [
    {
      "cell_type": "markdown",
      "metadata": {
        "id": "view-in-github",
        "colab_type": "text"
      },
      "source": [
        "<a href=\"https://colab.research.google.com/github/apthagowda97/computer_vision_poc/blob/master/classification/notebook/scratch_learning.ipynb\" target=\"_parent\"><img src=\"https://colab.research.google.com/assets/colab-badge.svg\" alt=\"Open In Colab\"/></a>"
      ]
    },
    {
      "cell_type": "code",
      "metadata": {
        "id": "7kxyOMRSvarD",
        "colab_type": "code",
        "colab": {}
      },
      "source": [
        "import os\n",
        "import time\n",
        "import copy\n",
        "import numpy as np\n",
        "import pandas as pd\n",
        "import matplotlib.pyplot as plt\n",
        "from tqdm import tqdm_notebook as tqdm\n",
        "from sklearn.metrics import accuracy_score,roc_auc_score\n",
        "from sklearn.model_selection import train_test_split\n",
        "from sklearn.preprocessing import LabelEncoder\n",
        "\n",
        "import torch\n",
        "import torch.nn as nn\n",
        "import torch.optim as optim\n",
        "import torch.nn.functional as F\n",
        "from torch.optim import lr_scheduler\n",
        "from torch.utils.data import Dataset, DataLoader\n",
        "from torchvision import datasets, models, transforms"
      ],
      "execution_count": 91,
      "outputs": []
    },
    {
      "cell_type": "code",
      "metadata": {
        "id": "wc6xXAwfLEZJ",
        "colab_type": "code",
        "colab": {}
      },
      "source": [
        "SEED = 42\n",
        "BATCH_SIZE = 32\n",
        "SIZE = [256,256]\n",
        "LR = 0.0001\n",
        "WEIGHT_DECAY = 0\n",
        "EPOCHS = 12\n",
        "TTA = 4"
      ],
      "execution_count": 92,
      "outputs": []
    },
    {
      "cell_type": "code",
      "metadata": {
        "id": "-X4IMeaiL0e5",
        "colab_type": "code",
        "colab": {}
      },
      "source": [
        "def seed_everything(SEED):\n",
        "    np.random.seed(SEED);\n",
        "    torch.manual_seed(SEED);\n",
        "    torch.cuda.manual_seed(SEED)\n",
        "    torch.backends.cudnn.deterministic = True; \n",
        "    torch.backends.cudnn.benchmark = False"
      ],
      "execution_count": 93,
      "outputs": []
    },
    {
      "cell_type": "code",
      "metadata": {
        "id": "EKNuAKVOvarW",
        "colab_type": "code",
        "colab": {
          "base_uri": "https://localhost:8080/",
          "height": 34
        },
        "outputId": "a6d24e2a-b32a-4684-dc18-3c05e73cc66c"
      },
      "source": [
        "seed_everything(SEED) \n",
        "device = torch.device(\"cuda:0\" if torch.cuda.is_available() else \"cpu\")\n",
        "print(\"CURRENT DEVICE: {0}\".format(device))"
      ],
      "execution_count": 94,
      "outputs": [
        {
          "output_type": "stream",
          "text": [
            "CURRENT DEVICE: cpu\n"
          ],
          "name": "stdout"
        }
      ]
    },
    {
      "cell_type": "code",
      "metadata": {
        "id": "JTKjpqpPeRgs",
        "colab_type": "code",
        "colab": {
          "base_uri": "https://localhost:8080/",
          "height": 202
        },
        "outputId": "f08adb32-8032-458d-d825-c64fbdc97b75"
      },
      "source": [
        "%%shell\n",
        "\n",
        "wget https://storage.googleapis.com/download.tensorflow.org/example_images/flower_photos.tgz\n",
        "tar -xzf flower_photos.tgz"
      ],
      "execution_count": 95,
      "outputs": [
        {
          "output_type": "stream",
          "text": [
            "--2020-08-28 18:24:46--  https://storage.googleapis.com/download.tensorflow.org/example_images/flower_photos.tgz\n",
            "Resolving storage.googleapis.com (storage.googleapis.com)... 172.217.204.128, 172.217.203.128, 173.194.216.128, ...\n",
            "Connecting to storage.googleapis.com (storage.googleapis.com)|172.217.204.128|:443... connected.\n",
            "HTTP request sent, awaiting response... 200 OK\n",
            "Length: 228813984 (218M) [application/x-compressed-tar]\n",
            "Saving to: ‘flower_photos.tgz.2’\n",
            "\n",
            "flower_photos.tgz.2 100%[===================>] 218.21M   139MB/s    in 1.6s    \n",
            "\n",
            "2020-08-28 18:24:48 (139 MB/s) - ‘flower_photos.tgz.2’ saved [228813984/228813984]\n",
            "\n"
          ],
          "name": "stdout"
        },
        {
          "output_type": "execute_result",
          "data": {
            "text/plain": [
              ""
            ]
          },
          "metadata": {
            "tags": []
          },
          "execution_count": 95
        }
      ]
    },
    {
      "cell_type": "code",
      "metadata": {
        "id": "DqurljOreRXn",
        "colab_type": "code",
        "colab": {}
      },
      "source": [
        "image_name = [];flower_name = []\n",
        "for dir_name in os.listdir('flower_photos'):\n",
        "  if os.path.isdir(os.path.join('flower_photos',dir_name)):\n",
        "    names = os.listdir(os.path.join('flower_photos',dir_name))\n",
        "    image_name.extend(names)\n",
        "    flower_name.extend([dir_name]*len(names))"
      ],
      "execution_count": 96,
      "outputs": []
    },
    {
      "cell_type": "code",
      "metadata": {
        "id": "y5wDx_AhKzlk",
        "colab_type": "code",
        "colab": {
          "base_uri": "https://localhost:8080/",
          "height": 34
        },
        "outputId": "8fd25c45-0455-4ecc-d98a-59170ce50cfb"
      },
      "source": [
        "le = LabelEncoder()\n",
        "flower_df = pd.DataFrame(data={'flower_name':flower_name,'image_name':image_name})\n",
        "flower_df['image_path'] = flower_df['flower_name']+'/'+flower_df['image_name']\n",
        "flower_df['target'] = le.fit_transform(flower_df['flower_name'])\n",
        "print(\"Target : {}\".format(le.classes_))"
      ],
      "execution_count": 97,
      "outputs": [
        {
          "output_type": "stream",
          "text": [
            "Target : ['daisy' 'dandelion' 'roses' 'sunflowers' 'tulips']\n"
          ],
          "name": "stdout"
        }
      ]
    },
    {
      "cell_type": "code",
      "metadata": {
        "id": "X27PQVbgKyO3",
        "colab_type": "code",
        "colab": {
          "base_uri": "https://localhost:8080/",
          "height": 195
        },
        "outputId": "b25c01f9-5db7-47b5-f97c-50849ba32800"
      },
      "source": [
        "flower_df = flower_df.sample(frac=1,random_state=42).reset_index(drop=True)\n",
        "flower_df.head()"
      ],
      "execution_count": 98,
      "outputs": [
        {
          "output_type": "execute_result",
          "data": {
            "text/html": [
              "<div>\n",
              "<style scoped>\n",
              "    .dataframe tbody tr th:only-of-type {\n",
              "        vertical-align: middle;\n",
              "    }\n",
              "\n",
              "    .dataframe tbody tr th {\n",
              "        vertical-align: top;\n",
              "    }\n",
              "\n",
              "    .dataframe thead th {\n",
              "        text-align: right;\n",
              "    }\n",
              "</style>\n",
              "<table border=\"1\" class=\"dataframe\">\n",
              "  <thead>\n",
              "    <tr style=\"text-align: right;\">\n",
              "      <th></th>\n",
              "      <th>flower_name</th>\n",
              "      <th>image_name</th>\n",
              "      <th>image_path</th>\n",
              "      <th>target</th>\n",
              "    </tr>\n",
              "  </thead>\n",
              "  <tbody>\n",
              "    <tr>\n",
              "      <th>0</th>\n",
              "      <td>dandelion</td>\n",
              "      <td>2542908888_25a1c78ff0.jpg</td>\n",
              "      <td>dandelion/2542908888_25a1c78ff0.jpg</td>\n",
              "      <td>1</td>\n",
              "    </tr>\n",
              "    <tr>\n",
              "      <th>1</th>\n",
              "      <td>roses</td>\n",
              "      <td>2059172936_032ffc12aa.jpg</td>\n",
              "      <td>roses/2059172936_032ffc12aa.jpg</td>\n",
              "      <td>2</td>\n",
              "    </tr>\n",
              "    <tr>\n",
              "      <th>2</th>\n",
              "      <td>sunflowers</td>\n",
              "      <td>3865206264_5d81584bba.jpg</td>\n",
              "      <td>sunflowers/3865206264_5d81584bba.jpg</td>\n",
              "      <td>3</td>\n",
              "    </tr>\n",
              "    <tr>\n",
              "      <th>3</th>\n",
              "      <td>daisy</td>\n",
              "      <td>3468498624_d082f99e98.jpg</td>\n",
              "      <td>daisy/3468498624_d082f99e98.jpg</td>\n",
              "      <td>0</td>\n",
              "    </tr>\n",
              "    <tr>\n",
              "      <th>4</th>\n",
              "      <td>daisy</td>\n",
              "      <td>144603918_b9de002f60_m.jpg</td>\n",
              "      <td>daisy/144603918_b9de002f60_m.jpg</td>\n",
              "      <td>0</td>\n",
              "    </tr>\n",
              "  </tbody>\n",
              "</table>\n",
              "</div>"
            ],
            "text/plain": [
              "  flower_name  ... target\n",
              "0   dandelion  ...      1\n",
              "1       roses  ...      2\n",
              "2  sunflowers  ...      3\n",
              "3       daisy  ...      0\n",
              "4       daisy  ...      0\n",
              "\n",
              "[5 rows x 4 columns]"
            ]
          },
          "metadata": {
            "tags": []
          },
          "execution_count": 98
        }
      ]
    },
    {
      "cell_type": "code",
      "metadata": {
        "id": "kqCQgLUJPm7w",
        "colab_type": "code",
        "colab": {
          "base_uri": "https://localhost:8080/",
          "height": 34
        },
        "outputId": "b8ad7ae3-71a8-4eed-ab32-8a11bf1e04ce"
      },
      "source": [
        "train_and_valid,test = train_test_split(flower_df,test_size=0.1,random_state=SEED)\n",
        "train,valid = train_test_split(train_valid,test_size=0.2,random_state=SEED)\n",
        "print(\"The size of train: {0}, valid: {1} and test: {2}\".format(len(train),len(valid),len(test)))"
      ],
      "execution_count": 99,
      "outputs": [
        {
          "output_type": "stream",
          "text": [
            "The size of train: 2642, valid: 661 and test: 367\n"
          ],
          "name": "stdout"
        }
      ]
    },
    {
      "cell_type": "code",
      "metadata": {
        "id": "oo1h0rJHPf48",
        "colab_type": "code",
        "colab": {}
      },
      "source": [
        "transform = {\n",
        "    'train' : transforms.Compose([\n",
        "        transforms.RandomResizedCrop(224),\n",
        "        transforms.RandomHorizontalFlip(),\n",
        "        transforms.ToTensor(),\n",
        "        transforms.Normalize([0.485, 0.456, 0.406], [0.229, 0.224, 0.225])\n",
        "    ]),\n",
        "    'valid': transforms.Compose([\n",
        "        transforms.Resize(224),\n",
        "        transforms.ToTensor(),\n",
        "        transforms.Normalize([0.485, 0.456, 0.406], [0.229, 0.224, 0.225])\n",
        "    ])\n",
        "}"
      ],
      "execution_count": 100,
      "outputs": []
    },
    {
      "cell_type": "code",
      "metadata": {
        "id": "xR1erO_USMwV",
        "colab_type": "code",
        "colab": {}
      },
      "source": [
        "class FLOWERS(Dataset):\n",
        "    def __init__(self,df,transform=None,train=True):\n",
        "        self.df = df\n",
        "        self.transform = transform\n",
        "        self.train = train\n",
        "        \n",
        "    def __len__(self):\n",
        "        return len(self.df)\n",
        "    \n",
        "    def __getitem__(self, idx):\n",
        "        if self.train==True:\n",
        "            image_path = self.df.iloc[idx]['image_path']\n",
        "            image = plt.imread(os.path.join('flower_photos',image_path))\n",
        "            label = self.df.iloc[idx]['target']\n",
        "            if self.transform is not None:\n",
        "                image = self.transform(image=image)\n",
        "            return {'image': image,'label': label }\n",
        "        else:\n",
        "            image_path = self.df.iloc[idx]['image_path']\n",
        "            image = plt.imread(os.path.join('flower_photos',image_path))\n",
        "            if self.transform is not None:\n",
        "                image = self.transform(image=image)\n",
        "            return {'image':image}"
      ],
      "execution_count": 103,
      "outputs": []
    },
    {
      "cell_type": "code",
      "metadata": {
        "id": "TCn5U1dfUUlO",
        "colab_type": "code",
        "colab": {}
      },
      "source": [
        ""
      ],
      "execution_count": null,
      "outputs": []
    },
    {
      "cell_type": "code",
      "metadata": {
        "id": "l_-KnYvfUUK5",
        "colab_type": "code",
        "colab": {}
      },
      "source": [
        ""
      ],
      "execution_count": null,
      "outputs": []
    },
    {
      "cell_type": "code",
      "metadata": {
        "id": "xLoEnj1_2hIJ",
        "colab_type": "code",
        "colab": {}
      },
      "source": [
        "def plot_images(inp, title=None):\n",
        "    \"\"\"Imshow for Tensor.\"\"\"\n",
        "    plt.figure(figsize=(10,10))\n",
        "    inp = inp.numpy().transpose((1, 2, 0))\n",
        "    mean = np.array([0.485, 0.456, 0.406])\n",
        "    std = np.array([0.229, 0.224, 0.225])\n",
        "    inp = std * inp + mean\n",
        "    inp = np.clip(inp, 0, 1)\n",
        "    plt.imshow(inp)\n",
        "    plt.axis('off')\n",
        "    if title is not None:\n",
        "        plt.title(title)\n"
      ],
      "execution_count": null,
      "outputs": []
    },
    {
      "cell_type": "code",
      "metadata": {
        "id": "em7iIatRvasf",
        "colab_type": "code",
        "colab": {
          "base_uri": "https://localhost:8080/",
          "height": 120
        },
        "outputId": "8004caff-8691-452b-e9f9-4bec2b1b2242"
      },
      "source": [
        "images, labels = next(iter(trainloader))\n",
        "out = torchvision.utils.make_grid(images)\n",
        "plot_images(out, title=[classes[i] for i in labels])"
      ],
      "execution_count": null,
      "outputs": [
        {
          "output_type": "display_data",
          "data": {
            "image/png": "[encoded data removed]",
            "text/plain": [
              "<Figure size 720x720 with 1 Axes>"
            ]
          },
          "metadata": {
            "tags": [],
            "needs_background": "light"
          }
        }
      ]
    },
    {
      "cell_type": "code",
      "metadata": {
        "id": "lg3tPkppvass",
        "colab_type": "code",
        "colab": {}
      },
      "source": [
        "class NET(nn.Module):\n",
        "    def __init__(self):\n",
        "        super(NET, self).__init__()\n",
        "        self.conv1 = nn.Conv2d(3, 6, 5)\n",
        "        self.pool = nn.MaxPool2d(2, 2)\n",
        "        self.conv2 = nn.Conv2d(6, 16, 5)\n",
        "        self.fc1 = nn.Linear(16 * 5 * 5, 120)\n",
        "        self.fc2 = nn.Linear(120, 84)\n",
        "        self.fc3 = nn.Linear(84, 10)\n",
        "\n",
        "    def forward(self, x):\n",
        "        x = self.pool(F.relu(self.conv1(x)))\n",
        "        x = self.pool(F.relu(self.conv2(x)))\n",
        "        x = x.view(-1, 16 * 5 * 5)\n",
        "        x = F.relu(self.fc1(x))\n",
        "        x = F.relu(self.fc2(x))\n",
        "        x = self.fc3(x)\n",
        "        return x"
      ],
      "execution_count": null,
      "outputs": []
    }
  ]
}